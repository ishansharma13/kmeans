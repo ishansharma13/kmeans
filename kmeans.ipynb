{
  "nbformat": 4,
  "nbformat_minor": 0,
  "metadata": {
    "colab": {
      "name": "kmeans.ipynb",
      "provenance": []
    },
    "kernelspec": {
      "name": "python3",
      "display_name": "Python 3"
    },
    "language_info": {
      "name": "python"
    }
  },
  "cells": [
    {
      "cell_type": "code",
      "metadata": {
        "id": "vBLAAuVtFy1a"
      },
      "source": [
        "import random as rd\n",
        "import numpy as np\n",
        "np.random.seed(42)"
      ],
      "execution_count": 132,
      "outputs": []
    },
    {
      "cell_type": "code",
      "metadata": {
        "id": "yu4httQkEwWU"
      },
      "source": [
        "X = np.random.uniform(low=0, high=1000, size=(100,2))"
      ],
      "execution_count": 133,
      "outputs": []
    },
    {
      "cell_type": "code",
      "metadata": {
        "id": "e4buD95LJ4ad"
      },
      "source": [
        "class Kmeans:\n",
        "  def __init__(self,arr,K,iter=100):\n",
        "    \"\"\" Initialising variables \n",
        "        arr: array\n",
        "        k: number of clusters\n",
        "        iter: number of iterations\n",
        "        m: arr.shape[0]\n",
        "        n: arr.shape[1]\n",
        "        centroids: empty array having shape n x 0\n",
        "    \"\"\"\n",
        "    self.arr = arr\n",
        "    self.k = K\n",
        "    self.iter = iter\n",
        "    self.m,self.n = arr.shape\n",
        "    self.cluster_points = {}\n",
        "    self.centroids=np.array([]).reshape(n,0)\n",
        "    self.initialize_centroids()\n",
        "\n",
        "  \n",
        "  def initialize_centroids(self):\n",
        "    \"\"\" assigns the centroids randomly \"\"\"\n",
        "    for i in range(self.k):\n",
        "       rand=rd.randint(0,self.m-1)\n",
        "       self.centroids=np.c_[self.centroids,self.arr[rand]]\n",
        "  \n",
        "  def fit(self):\n",
        "    \"\"\" for each iteration:\n",
        "          assigns an empty array eucDist\n",
        "          for each centroid:\n",
        "            calculates the distance in squared between all points of array and that centroid \n",
        "          c --> cluster number for each point in array\n",
        "          then\n",
        "          an empty dictionary res is initialised which for each cluster contains an empty array at first\n",
        "          then each point is saved to it's assigned cluster key in res, as we iterate through number of points\n",
        "          here c[i] contains the cluster number assigned to point arr[i]\n",
        "\n",
        "          finally we calculate the mean of all points in a cluster to form a new centroid for that cluster\n",
        "          \"\"\"\n",
        "    for i in range(self.iter):\n",
        "\n",
        "        eucDist=np.array([]).reshape(self.m,0)\n",
        "        for k in range(self.k):\n",
        "            tmp=np.sum((self.arr-self.centroids[:,k])**2,axis=1)\n",
        "            eucDist=np.c_[eucDist,tmp]\n",
        "        c=np.argmin(eucDist,axis=1)+1\n",
        "\n",
        "        res={}\n",
        "        for k in range(self.k):\n",
        "            res[k+1]=np.array([]).reshape(2,0)\n",
        "        for i in range(self.m):\n",
        "            res[c[i]]=np.c_[res[c[i]],self.arr[i]]\n",
        "        for k in range(self.k):\n",
        "            res[k+1]=res[k+1].T\n",
        "\n",
        "        for k in range(self.k):\n",
        "            self.centroids[:,k]=np.mean(res[k+1],axis=0)\n",
        "        self.result = res\n",
        "\n",
        "  def results(self):\n",
        "    \"\"\"print the results, should be used after fit method \"\"\"\n",
        "    return {'centroids':self.centroids.T,'clustered_points':self.result}\n",
        "\n",
        "  def visualize(self):\n",
        "      \"\"\" depending on the number of clusters, (r,g,b) values and labels for all clusters are formed and plotted\"\"\"\n",
        "      color=[(rd.random(),rd.random(),rd.random()) for i in range(self.k)]\n",
        "      labels=['cluster_'+str(i) for i in range(1,self.k+1)]\n",
        "      plt.figure(figsize=(10,5))\n",
        "      for k in range(self.k):\n",
        "          plt.scatter(self.result[k+1][:,0],self.result[k+1][:,1],c=[color[k]],label=labels[k])\n",
        "      plt.scatter(self.centroids[0,:],self.centroids[1,:],s=300,c='yellow',label='Centroids')\n",
        "\n",
        "      plt.xlabel('X')\n",
        "      plt.ylabel('Y')\n",
        "      plt.legend()\n",
        "      plt.show()\n"
      ],
      "execution_count": 135,
      "outputs": []
    },
    {
      "cell_type": "code",
      "metadata": {
        "colab": {
          "base_uri": "https://localhost:8080/",
          "height": 334
        },
        "id": "OX8fxKztKipI",
        "outputId": "ee4122c5-cbe7-4f29-c300-f8bf175e0be2"
      },
      "source": [
        "km = Kmeans(X,5,100)\n",
        "km.fit()\n",
        "km.results()\n",
        "km.visualize()"
      ],
      "execution_count": 136,
      "outputs": [
        {
          "output_type": "display_data",
          "data": {
            "image/png": "[encoded data removed]",
            "text/plain": [
              "<Figure size 720x360 with 1 Axes>"
            ]
          },
          "metadata": {
            "needs_background": "light"
          }
        }
      ]
    }
  ]
}